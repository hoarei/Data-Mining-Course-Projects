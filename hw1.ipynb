{
  "nbformat": 4,
  "nbformat_minor": 0,
  "metadata": {
    "colab": {
      "provenance": []
    },
    "kernelspec": {
      "name": "python3",
      "display_name": "Python 3"
    },
    "language_info": {
      "name": "python"
    }
  },
  "cells": [
    {
      "cell_type": "markdown",
      "metadata": {
        "id": "RnjPqWFCe-rH"
      },
      "source": [
        "# QUESTION 4\n"
      ]
    },
    {
      "cell_type": "code",
      "metadata": {
        "colab": {
          "base_uri": "https://localhost:8080/"
        },
        "id": "RFHpeAsZ-IJ2",
        "outputId": "1d3ccbeb-46f3-454a-885a-211e260200e4"
      },
      "source": [
        "from google.colab import drive\n",
        "drive.mount('/content/drive')\n",
        "import os"
      ],
      "execution_count": null,
      "outputs": [
        {
          "output_type": "stream",
          "name": "stdout",
          "text": [
            "Drive already mounted at /content/drive; to attempt to forcibly remount, call drive.mount(\"/content/drive\", force_remount=True).\n"
          ]
        }
      ]
    },
    {
      "cell_type": "code",
      "metadata": {
        "colab": {
          "base_uri": "https://localhost:8080/"
        },
        "id": "tsKNJ7NS-5Vc",
        "outputId": "efdfb8ee-9ace-48e1-be67-c2601ea32865"
      },
      "source": [
        "!ls /content/drive/My\\ Drive/MA440/*.py "
      ],
      "execution_count": null,
      "outputs": [
        {
          "output_type": "stream",
          "name": "stdout",
          "text": [
            "'/content/drive/My Drive/MA440/mylib.py'\n"
          ]
        }
      ]
    },
    {
      "cell_type": "code",
      "metadata": {
        "colab": {
          "base_uri": "https://localhost:8080/"
        },
        "id": "jEFcia6BPjjI",
        "outputId": "a9bcb1f9-6d5b-4db2-8aae-9374a531d346"
      },
      "source": [
        "!cat /content/drive/My\\ Drive/MA440/myLib.py"
      ],
      "execution_count": null,
      "outputs": [
        {
          "output_type": "stream",
          "name": "stdout",
          "text": [
            "#!/usr/bin/env python3\n",
            "# -*- coding: utf-8 -*-\n",
            "\"\"\"\n",
            "Created on Wed Sep 15 21:37:00 2021\n",
            "\n",
            "@author: bing\n",
            "\"\"\"\n",
            "\n",
            "def MyFunction():\n",
            "    print ('My first imported function for Data Mining')"
          ]
        }
      ]
    },
    {
      "cell_type": "code",
      "metadata": {
        "id": "VMNj11QDENBv"
      },
      "source": [
        "import os"
      ],
      "execution_count": null,
      "outputs": []
    },
    {
      "cell_type": "code",
      "metadata": {
        "colab": {
          "base_uri": "https://localhost:8080/"
        },
        "id": "5NCTCLuxEQSC",
        "outputId": "bb2fb411-689b-4c7a-f3ad-eb4aa8ae1286"
      },
      "source": [
        "!pwd"
      ],
      "execution_count": null,
      "outputs": [
        {
          "output_type": "stream",
          "name": "stdout",
          "text": [
            "/content\n"
          ]
        }
      ]
    },
    {
      "cell_type": "code",
      "metadata": {
        "id": "acJyod2-ETLj"
      },
      "source": [
        "os.chdir('/content/drive/My Drive/MA440')"
      ],
      "execution_count": null,
      "outputs": []
    },
    {
      "cell_type": "code",
      "metadata": {
        "colab": {
          "base_uri": "https://localhost:8080/"
        },
        "id": "6RR-j7sUR3RT",
        "outputId": "45080e33-34e0-4149-e7f4-fb43edcf28d7"
      },
      "source": [
        "import myLib\n",
        "myLib.MyFunction()"
      ],
      "execution_count": null,
      "outputs": [
        {
          "output_type": "stream",
          "name": "stdout",
          "text": [
            "My first imported function for Data Mining\n"
          ]
        }
      ]
    },
    {
      "cell_type": "markdown",
      "metadata": {
        "id": "D-IHWX9xfQMY"
      },
      "source": [
        "# QUESTION 8"
      ]
    },
    {
      "cell_type": "code",
      "metadata": {
        "id": "k_j80FEcfUuQ"
      },
      "source": [
        "import os"
      ],
      "execution_count": null,
      "outputs": []
    },
    {
      "cell_type": "code",
      "metadata": {
        "id": "T_gai-rco7j9"
      },
      "source": [
        "import pandas as pd"
      ],
      "execution_count": null,
      "outputs": []
    },
    {
      "cell_type": "code",
      "metadata": {
        "colab": {
          "base_uri": "https://localhost:8080/"
        },
        "id": "cmc0vWvYfXX1",
        "outputId": "e634d455-9276-431f-b216-9e8c2310bc99"
      },
      "source": [
        "from google.colab import drive\n",
        "drive.mount('/content/gdrive')"
      ],
      "execution_count": null,
      "outputs": [
        {
          "output_type": "stream",
          "name": "stdout",
          "text": [
            "Mounted at /content/gdrive\n"
          ]
        }
      ]
    },
    {
      "cell_type": "code",
      "metadata": {
        "id": "9Eb2mKPHfekw",
        "outputId": "42ce2140-54c1-4cf7-a1e3-13f21024f1d9",
        "colab": {
          "base_uri": "https://localhost:8080/",
          "height": 166
        }
      },
      "source": [
        "os.chdir('/content/gdrive/My Drive/MA440/')"
      ],
      "execution_count": null,
      "outputs": [
        {
          "output_type": "error",
          "ename": "FileNotFoundError",
          "evalue": "ignored",
          "traceback": [
            "\u001b[0;31m---------------------------------------------------------------------------\u001b[0m",
            "\u001b[0;31mFileNotFoundError\u001b[0m                         Traceback (most recent call last)",
            "\u001b[0;32m<ipython-input-5-5129ff6426eb>\u001b[0m in \u001b[0;36m<module>\u001b[0;34m()\u001b[0m\n\u001b[0;32m----> 1\u001b[0;31m \u001b[0mos\u001b[0m\u001b[0;34m.\u001b[0m\u001b[0mchdir\u001b[0m\u001b[0;34m(\u001b[0m\u001b[0;34m'/content/gdrive/My Drive/MA440/'\u001b[0m\u001b[0;34m)\u001b[0m\u001b[0;34m\u001b[0m\u001b[0;34m\u001b[0m\u001b[0m\n\u001b[0m",
            "\u001b[0;31mFileNotFoundError\u001b[0m: [Errno 2] No such file or directory: '/content/gdrive/My Drive/MA440/'"
          ]
        }
      ]
    },
    {
      "cell_type": "code",
      "metadata": {
        "id": "nZaBMDt3frxK"
      },
      "source": [
        "!pwd"
      ],
      "execution_count": null,
      "outputs": []
    },
    {
      "cell_type": "code",
      "metadata": {
        "colab": {
          "base_uri": "https://localhost:8080/"
        },
        "id": "Fn1lc5s1gXG1",
        "outputId": "7d3c0145-f67c-40e1-fa8b-8eeabcc2a312"
      },
      "source": [
        "!ls"
      ],
      "execution_count": null,
      "outputs": [
        {
          "output_type": "stream",
          "name": "stdout",
          "text": [
            "gdrive\tsample_data\n"
          ]
        }
      ]
    },
    {
      "cell_type": "code",
      "metadata": {
        "id": "JKFBfPt5gZc0"
      },
      "source": [
        "df = pd.read_csv(\"/content/gdrive/My Drive/MA440/Cereals.csv\")"
      ],
      "execution_count": null,
      "outputs": []
    },
    {
      "cell_type": "code",
      "metadata": {
        "colab": {
          "base_uri": "https://localhost:8080/",
          "height": 317
        },
        "id": "rJSL_M8ZpAgh",
        "outputId": "83058505-fdc5-4a02-9e6e-e8f305994056"
      },
      "source": [
        "df.head(8)"
      ],
      "execution_count": null,
      "outputs": [
        {
          "output_type": "execute_result",
          "data": {
            "text/html": [
              "<div>\n",
              "<style scoped>\n",
              "    .dataframe tbody tr th:only-of-type {\n",
              "        vertical-align: middle;\n",
              "    }\n",
              "\n",
              "    .dataframe tbody tr th {\n",
              "        vertical-align: top;\n",
              "    }\n",
              "\n",
              "    .dataframe thead th {\n",
              "        text-align: right;\n",
              "    }\n",
              "</style>\n",
              "<table border=\"1\" class=\"dataframe\">\n",
              "  <thead>\n",
              "    <tr style=\"text-align: right;\">\n",
              "      <th></th>\n",
              "      <th>name</th>\n",
              "      <th>mfr</th>\n",
              "      <th>type</th>\n",
              "      <th>calories</th>\n",
              "      <th>protein</th>\n",
              "      <th>fat</th>\n",
              "      <th>sodium</th>\n",
              "      <th>fiber</th>\n",
              "      <th>carbo</th>\n",
              "      <th>sugars</th>\n",
              "      <th>potass</th>\n",
              "      <th>vitamins</th>\n",
              "      <th>shelf</th>\n",
              "      <th>weight</th>\n",
              "      <th>cups</th>\n",
              "      <th>rating</th>\n",
              "    </tr>\n",
              "  </thead>\n",
              "  <tbody>\n",
              "    <tr>\n",
              "      <th>0</th>\n",
              "      <td>100%_Bran</td>\n",
              "      <td>N</td>\n",
              "      <td>C</td>\n",
              "      <td>70</td>\n",
              "      <td>4</td>\n",
              "      <td>1</td>\n",
              "      <td>130</td>\n",
              "      <td>10.0</td>\n",
              "      <td>5.0</td>\n",
              "      <td>6.0</td>\n",
              "      <td>280.0</td>\n",
              "      <td>25</td>\n",
              "      <td>3</td>\n",
              "      <td>1.00</td>\n",
              "      <td>0.33</td>\n",
              "      <td>68.402973</td>\n",
              "    </tr>\n",
              "    <tr>\n",
              "      <th>1</th>\n",
              "      <td>100%_Natural_Bran</td>\n",
              "      <td>Q</td>\n",
              "      <td>C</td>\n",
              "      <td>120</td>\n",
              "      <td>3</td>\n",
              "      <td>5</td>\n",
              "      <td>15</td>\n",
              "      <td>2.0</td>\n",
              "      <td>8.0</td>\n",
              "      <td>8.0</td>\n",
              "      <td>135.0</td>\n",
              "      <td>0</td>\n",
              "      <td>3</td>\n",
              "      <td>1.00</td>\n",
              "      <td>1.00</td>\n",
              "      <td>33.983679</td>\n",
              "    </tr>\n",
              "    <tr>\n",
              "      <th>2</th>\n",
              "      <td>All-Bran</td>\n",
              "      <td>K</td>\n",
              "      <td>C</td>\n",
              "      <td>70</td>\n",
              "      <td>4</td>\n",
              "      <td>1</td>\n",
              "      <td>260</td>\n",
              "      <td>9.0</td>\n",
              "      <td>7.0</td>\n",
              "      <td>5.0</td>\n",
              "      <td>320.0</td>\n",
              "      <td>25</td>\n",
              "      <td>3</td>\n",
              "      <td>1.00</td>\n",
              "      <td>0.33</td>\n",
              "      <td>59.425505</td>\n",
              "    </tr>\n",
              "    <tr>\n",
              "      <th>3</th>\n",
              "      <td>All-Bran_with_Extra_Fiber</td>\n",
              "      <td>K</td>\n",
              "      <td>C</td>\n",
              "      <td>50</td>\n",
              "      <td>4</td>\n",
              "      <td>0</td>\n",
              "      <td>140</td>\n",
              "      <td>14.0</td>\n",
              "      <td>8.0</td>\n",
              "      <td>0.0</td>\n",
              "      <td>330.0</td>\n",
              "      <td>25</td>\n",
              "      <td>3</td>\n",
              "      <td>1.00</td>\n",
              "      <td>0.50</td>\n",
              "      <td>93.704912</td>\n",
              "    </tr>\n",
              "    <tr>\n",
              "      <th>4</th>\n",
              "      <td>Almond_Delight</td>\n",
              "      <td>R</td>\n",
              "      <td>C</td>\n",
              "      <td>110</td>\n",
              "      <td>2</td>\n",
              "      <td>2</td>\n",
              "      <td>200</td>\n",
              "      <td>1.0</td>\n",
              "      <td>14.0</td>\n",
              "      <td>8.0</td>\n",
              "      <td>NaN</td>\n",
              "      <td>25</td>\n",
              "      <td>3</td>\n",
              "      <td>1.00</td>\n",
              "      <td>0.75</td>\n",
              "      <td>34.384843</td>\n",
              "    </tr>\n",
              "    <tr>\n",
              "      <th>5</th>\n",
              "      <td>Apple_Cinnamon_Cheerios</td>\n",
              "      <td>G</td>\n",
              "      <td>C</td>\n",
              "      <td>110</td>\n",
              "      <td>2</td>\n",
              "      <td>2</td>\n",
              "      <td>180</td>\n",
              "      <td>1.5</td>\n",
              "      <td>10.5</td>\n",
              "      <td>10.0</td>\n",
              "      <td>70.0</td>\n",
              "      <td>25</td>\n",
              "      <td>1</td>\n",
              "      <td>1.00</td>\n",
              "      <td>0.75</td>\n",
              "      <td>29.509541</td>\n",
              "    </tr>\n",
              "    <tr>\n",
              "      <th>6</th>\n",
              "      <td>Apple_Jacks</td>\n",
              "      <td>K</td>\n",
              "      <td>C</td>\n",
              "      <td>110</td>\n",
              "      <td>2</td>\n",
              "      <td>0</td>\n",
              "      <td>125</td>\n",
              "      <td>1.0</td>\n",
              "      <td>11.0</td>\n",
              "      <td>14.0</td>\n",
              "      <td>30.0</td>\n",
              "      <td>25</td>\n",
              "      <td>2</td>\n",
              "      <td>1.00</td>\n",
              "      <td>1.00</td>\n",
              "      <td>33.174094</td>\n",
              "    </tr>\n",
              "    <tr>\n",
              "      <th>7</th>\n",
              "      <td>Basic_4</td>\n",
              "      <td>G</td>\n",
              "      <td>C</td>\n",
              "      <td>130</td>\n",
              "      <td>3</td>\n",
              "      <td>2</td>\n",
              "      <td>210</td>\n",
              "      <td>2.0</td>\n",
              "      <td>18.0</td>\n",
              "      <td>8.0</td>\n",
              "      <td>100.0</td>\n",
              "      <td>25</td>\n",
              "      <td>3</td>\n",
              "      <td>1.33</td>\n",
              "      <td>0.75</td>\n",
              "      <td>37.038562</td>\n",
              "    </tr>\n",
              "  </tbody>\n",
              "</table>\n",
              "</div>"
            ],
            "text/plain": [
              "                        name mfr type  calories  ...  shelf  weight  cups     rating\n",
              "0                  100%_Bran   N    C        70  ...      3    1.00  0.33  68.402973\n",
              "1          100%_Natural_Bran   Q    C       120  ...      3    1.00  1.00  33.983679\n",
              "2                   All-Bran   K    C        70  ...      3    1.00  0.33  59.425505\n",
              "3  All-Bran_with_Extra_Fiber   K    C        50  ...      3    1.00  0.50  93.704912\n",
              "4             Almond_Delight   R    C       110  ...      3    1.00  0.75  34.384843\n",
              "5    Apple_Cinnamon_Cheerios   G    C       110  ...      1    1.00  0.75  29.509541\n",
              "6                Apple_Jacks   K    C       110  ...      2    1.00  1.00  33.174094\n",
              "7                    Basic_4   G    C       130  ...      3    1.33  0.75  37.038562\n",
              "\n",
              "[8 rows x 16 columns]"
            ]
          },
          "metadata": {},
          "execution_count": 36
        }
      ]
    },
    {
      "cell_type": "code",
      "metadata": {
        "colab": {
          "base_uri": "https://localhost:8080/"
        },
        "id": "UPDYhUH5rB3E",
        "outputId": "5f866041-54c2-4035-f426-cfa3249d2c30"
      },
      "source": [
        "df.index"
      ],
      "execution_count": null,
      "outputs": [
        {
          "output_type": "execute_result",
          "data": {
            "text/plain": [
              "RangeIndex(start=0, stop=77, step=1)"
            ]
          },
          "metadata": {},
          "execution_count": 37
        }
      ]
    },
    {
      "cell_type": "code",
      "metadata": {
        "colab": {
          "base_uri": "https://localhost:8080/"
        },
        "id": "toE_eUPLswO5",
        "outputId": "61f40d2b-4abc-4e7c-a201-b0174bb7e1bc"
      },
      "source": [
        "half_df = df.iloc[0:38]\n",
        "print(half_df)"
      ],
      "execution_count": null,
      "outputs": [
        {
          "output_type": "stream",
          "name": "stdout",
          "text": [
            "                                      name mfr type  ...  weight  cups     rating\n",
            "0                                100%_Bran   N    C  ...    1.00  0.33  68.402973\n",
            "1                        100%_Natural_Bran   Q    C  ...    1.00  1.00  33.983679\n",
            "2                                 All-Bran   K    C  ...    1.00  0.33  59.425505\n",
            "3                All-Bran_with_Extra_Fiber   K    C  ...    1.00  0.50  93.704912\n",
            "4                           Almond_Delight   R    C  ...    1.00  0.75  34.384843\n",
            "5                  Apple_Cinnamon_Cheerios   G    C  ...    1.00  0.75  29.509541\n",
            "6                              Apple_Jacks   K    C  ...    1.00  1.00  33.174094\n",
            "7                                  Basic_4   G    C  ...    1.33  0.75  37.038562\n",
            "8                                Bran_Chex   R    C  ...    1.00  0.67  49.120253\n",
            "9                              Bran_Flakes   P    C  ...    1.00  0.67  53.313813\n",
            "10                            Cap'n'Crunch   Q    C  ...    1.00  0.75  18.042851\n",
            "11                                Cheerios   G    C  ...    1.00  1.25  50.764999\n",
            "12                   Cinnamon_Toast_Crunch   G    C  ...    1.00  0.75  19.823573\n",
            "13                                Clusters   G    C  ...    1.00  0.50  40.400208\n",
            "14                             Cocoa_Puffs   G    C  ...    1.00  1.00  22.736446\n",
            "15                               Corn_Chex   R    C  ...    1.00  1.00  41.445019\n",
            "16                             Corn_Flakes   K    C  ...    1.00  1.00  45.863324\n",
            "17                               Corn_Pops   K    C  ...    1.00  1.00  35.782791\n",
            "18                           Count_Chocula   G    C  ...    1.00  1.00  22.396513\n",
            "19                      Cracklin'_Oat_Bran   K    C  ...    1.00  0.50  40.448772\n",
            "20                  Cream_of_Wheat_(Quick)   N    H  ...    1.00  1.00  64.533816\n",
            "21                                 Crispix   K    C  ...    1.00  1.00  46.895644\n",
            "22                  Crispy_Wheat_&_Raisins   G    C  ...    1.00  0.75  36.176196\n",
            "23                             Double_Chex   R    C  ...    1.00  0.75  44.330856\n",
            "24                             Froot_Loops   K    C  ...    1.00  1.00  32.207582\n",
            "25                          Frosted_Flakes   K    C  ...    1.00  0.75  31.435973\n",
            "26                     Frosted_Mini-Wheats   K    C  ...    1.00  0.80  58.345141\n",
            "27  Fruit_&_Fibre_Dates,_Walnuts,_and_Oats   P    C  ...    1.25  0.67  40.917047\n",
            "28                           Fruitful_Bran   K    C  ...    1.33  0.67  41.015492\n",
            "29                          Fruity_Pebbles   P    C  ...    1.00  0.75  28.025765\n",
            "30                            Golden_Crisp   P    C  ...    1.00  0.88  35.252444\n",
            "31                          Golden_Grahams   G    C  ...    1.00  0.75  23.804043\n",
            "32                       Grape_Nuts_Flakes   P    C  ...    1.00  0.88  52.076897\n",
            "33                              Grape-Nuts   P    C  ...    1.00  0.25  53.371007\n",
            "34                      Great_Grains_Pecan   P    C  ...    1.00  0.33  45.811716\n",
            "35                        Honey_Graham_Ohs   Q    C  ...    1.00  1.00  21.871292\n",
            "36                      Honey_Nut_Cheerios   G    C  ...    1.00  0.75  31.072217\n",
            "37                              Honey-comb   P    C  ...    1.00  1.33  28.742414\n",
            "\n",
            "[38 rows x 16 columns]\n"
          ]
        }
      ]
    },
    {
      "cell_type": "code",
      "metadata": {
        "colab": {
          "base_uri": "https://localhost:8080/"
        },
        "id": "peYt9UaftCSl",
        "outputId": "4f48f251-7980-4a36-8fd9-3a3564fbb75e"
      },
      "source": [
        "half_df = df.loc[:, \"protein\":\"fat\"]\n",
        "print(half_df)"
      ],
      "execution_count": null,
      "outputs": [
        {
          "output_type": "stream",
          "name": "stdout",
          "text": [
            "    protein  fat\n",
            "0         4    1\n",
            "1         3    5\n",
            "2         4    1\n",
            "3         4    0\n",
            "4         2    2\n",
            "..      ...  ...\n",
            "72        2    1\n",
            "73        1    1\n",
            "74        3    1\n",
            "75        3    1\n",
            "76        2    1\n",
            "\n",
            "[77 rows x 2 columns]\n"
          ]
        }
      ]
    },
    {
      "cell_type": "code",
      "metadata": {
        "colab": {
          "base_uri": "https://localhost:8080/",
          "height": 317
        },
        "id": "-p53oevvtcMn",
        "outputId": "0b11cfa9-df52-4968-ae88-162bc0160a62"
      },
      "source": [
        "df.describe()\n"
      ],
      "execution_count": null,
      "outputs": [
        {
          "output_type": "execute_result",
          "data": {
            "text/html": [
              "<div>\n",
              "<style scoped>\n",
              "    .dataframe tbody tr th:only-of-type {\n",
              "        vertical-align: middle;\n",
              "    }\n",
              "\n",
              "    .dataframe tbody tr th {\n",
              "        vertical-align: top;\n",
              "    }\n",
              "\n",
              "    .dataframe thead th {\n",
              "        text-align: right;\n",
              "    }\n",
              "</style>\n",
              "<table border=\"1\" class=\"dataframe\">\n",
              "  <thead>\n",
              "    <tr style=\"text-align: right;\">\n",
              "      <th></th>\n",
              "      <th>calories</th>\n",
              "      <th>protein</th>\n",
              "      <th>fat</th>\n",
              "      <th>sodium</th>\n",
              "      <th>fiber</th>\n",
              "      <th>carbo</th>\n",
              "      <th>sugars</th>\n",
              "      <th>potass</th>\n",
              "      <th>vitamins</th>\n",
              "      <th>shelf</th>\n",
              "      <th>weight</th>\n",
              "      <th>cups</th>\n",
              "      <th>rating</th>\n",
              "    </tr>\n",
              "  </thead>\n",
              "  <tbody>\n",
              "    <tr>\n",
              "      <th>count</th>\n",
              "      <td>77.000000</td>\n",
              "      <td>77.000000</td>\n",
              "      <td>77.000000</td>\n",
              "      <td>77.000000</td>\n",
              "      <td>77.000000</td>\n",
              "      <td>76.000000</td>\n",
              "      <td>76.000000</td>\n",
              "      <td>75.000000</td>\n",
              "      <td>77.000000</td>\n",
              "      <td>77.000000</td>\n",
              "      <td>77.000000</td>\n",
              "      <td>77.000000</td>\n",
              "      <td>77.000000</td>\n",
              "    </tr>\n",
              "    <tr>\n",
              "      <th>mean</th>\n",
              "      <td>106.883117</td>\n",
              "      <td>2.545455</td>\n",
              "      <td>1.012987</td>\n",
              "      <td>159.675325</td>\n",
              "      <td>2.151948</td>\n",
              "      <td>14.802632</td>\n",
              "      <td>7.026316</td>\n",
              "      <td>98.666667</td>\n",
              "      <td>28.246753</td>\n",
              "      <td>2.207792</td>\n",
              "      <td>1.029610</td>\n",
              "      <td>0.821039</td>\n",
              "      <td>42.665705</td>\n",
              "    </tr>\n",
              "    <tr>\n",
              "      <th>std</th>\n",
              "      <td>19.484119</td>\n",
              "      <td>1.094790</td>\n",
              "      <td>1.006473</td>\n",
              "      <td>83.832295</td>\n",
              "      <td>2.383364</td>\n",
              "      <td>3.907326</td>\n",
              "      <td>4.378656</td>\n",
              "      <td>70.410636</td>\n",
              "      <td>22.342523</td>\n",
              "      <td>0.832524</td>\n",
              "      <td>0.150477</td>\n",
              "      <td>0.232716</td>\n",
              "      <td>14.047289</td>\n",
              "    </tr>\n",
              "    <tr>\n",
              "      <th>min</th>\n",
              "      <td>50.000000</td>\n",
              "      <td>1.000000</td>\n",
              "      <td>0.000000</td>\n",
              "      <td>0.000000</td>\n",
              "      <td>0.000000</td>\n",
              "      <td>5.000000</td>\n",
              "      <td>0.000000</td>\n",
              "      <td>15.000000</td>\n",
              "      <td>0.000000</td>\n",
              "      <td>1.000000</td>\n",
              "      <td>0.500000</td>\n",
              "      <td>0.250000</td>\n",
              "      <td>18.042851</td>\n",
              "    </tr>\n",
              "    <tr>\n",
              "      <th>25%</th>\n",
              "      <td>100.000000</td>\n",
              "      <td>2.000000</td>\n",
              "      <td>0.000000</td>\n",
              "      <td>130.000000</td>\n",
              "      <td>1.000000</td>\n",
              "      <td>12.000000</td>\n",
              "      <td>3.000000</td>\n",
              "      <td>42.500000</td>\n",
              "      <td>25.000000</td>\n",
              "      <td>1.000000</td>\n",
              "      <td>1.000000</td>\n",
              "      <td>0.670000</td>\n",
              "      <td>33.174094</td>\n",
              "    </tr>\n",
              "    <tr>\n",
              "      <th>50%</th>\n",
              "      <td>110.000000</td>\n",
              "      <td>3.000000</td>\n",
              "      <td>1.000000</td>\n",
              "      <td>180.000000</td>\n",
              "      <td>2.000000</td>\n",
              "      <td>14.500000</td>\n",
              "      <td>7.000000</td>\n",
              "      <td>90.000000</td>\n",
              "      <td>25.000000</td>\n",
              "      <td>2.000000</td>\n",
              "      <td>1.000000</td>\n",
              "      <td>0.750000</td>\n",
              "      <td>40.400208</td>\n",
              "    </tr>\n",
              "    <tr>\n",
              "      <th>75%</th>\n",
              "      <td>110.000000</td>\n",
              "      <td>3.000000</td>\n",
              "      <td>2.000000</td>\n",
              "      <td>210.000000</td>\n",
              "      <td>3.000000</td>\n",
              "      <td>17.000000</td>\n",
              "      <td>11.000000</td>\n",
              "      <td>120.000000</td>\n",
              "      <td>25.000000</td>\n",
              "      <td>3.000000</td>\n",
              "      <td>1.000000</td>\n",
              "      <td>1.000000</td>\n",
              "      <td>50.828392</td>\n",
              "    </tr>\n",
              "    <tr>\n",
              "      <th>max</th>\n",
              "      <td>160.000000</td>\n",
              "      <td>6.000000</td>\n",
              "      <td>5.000000</td>\n",
              "      <td>320.000000</td>\n",
              "      <td>14.000000</td>\n",
              "      <td>23.000000</td>\n",
              "      <td>15.000000</td>\n",
              "      <td>330.000000</td>\n",
              "      <td>100.000000</td>\n",
              "      <td>3.000000</td>\n",
              "      <td>1.500000</td>\n",
              "      <td>1.500000</td>\n",
              "      <td>93.704912</td>\n",
              "    </tr>\n",
              "  </tbody>\n",
              "</table>\n",
              "</div>"
            ],
            "text/plain": [
              "         calories    protein        fat  ...     weight       cups     rating\n",
              "count   77.000000  77.000000  77.000000  ...  77.000000  77.000000  77.000000\n",
              "mean   106.883117   2.545455   1.012987  ...   1.029610   0.821039  42.665705\n",
              "std     19.484119   1.094790   1.006473  ...   0.150477   0.232716  14.047289\n",
              "min     50.000000   1.000000   0.000000  ...   0.500000   0.250000  18.042851\n",
              "25%    100.000000   2.000000   0.000000  ...   1.000000   0.670000  33.174094\n",
              "50%    110.000000   3.000000   1.000000  ...   1.000000   0.750000  40.400208\n",
              "75%    110.000000   3.000000   2.000000  ...   1.000000   1.000000  50.828392\n",
              "max    160.000000   6.000000   5.000000  ...   1.500000   1.500000  93.704912\n",
              "\n",
              "[8 rows x 13 columns]"
            ]
          },
          "metadata": {},
          "execution_count": 50
        }
      ]
    },
    {
      "cell_type": "code",
      "metadata": {
        "colab": {
          "base_uri": "https://localhost:8080/",
          "height": 317
        },
        "id": "9fqO_kOCvCPM",
        "outputId": "a64b96e7-ce29-441b-ea37-9f32528f3c8c"
      },
      "source": [
        "half_df.describe()"
      ],
      "execution_count": null,
      "outputs": [
        {
          "output_type": "execute_result",
          "data": {
            "text/html": [
              "<div>\n",
              "<style scoped>\n",
              "    .dataframe tbody tr th:only-of-type {\n",
              "        vertical-align: middle;\n",
              "    }\n",
              "\n",
              "    .dataframe tbody tr th {\n",
              "        vertical-align: top;\n",
              "    }\n",
              "\n",
              "    .dataframe thead th {\n",
              "        text-align: right;\n",
              "    }\n",
              "</style>\n",
              "<table border=\"1\" class=\"dataframe\">\n",
              "  <thead>\n",
              "    <tr style=\"text-align: right;\">\n",
              "      <th></th>\n",
              "      <th>calories</th>\n",
              "      <th>protein</th>\n",
              "      <th>fat</th>\n",
              "      <th>sodium</th>\n",
              "      <th>fiber</th>\n",
              "      <th>carbo</th>\n",
              "      <th>sugars</th>\n",
              "      <th>potass</th>\n",
              "      <th>vitamins</th>\n",
              "      <th>shelf</th>\n",
              "      <th>weight</th>\n",
              "      <th>cups</th>\n",
              "      <th>rating</th>\n",
              "    </tr>\n",
              "  </thead>\n",
              "  <tbody>\n",
              "    <tr>\n",
              "      <th>count</th>\n",
              "      <td>38.000000</td>\n",
              "      <td>38.000000</td>\n",
              "      <td>38.000000</td>\n",
              "      <td>38.000000</td>\n",
              "      <td>38.000000</td>\n",
              "      <td>38.000000</td>\n",
              "      <td>38.000000</td>\n",
              "      <td>36.000000</td>\n",
              "      <td>38.000000</td>\n",
              "      <td>38.000000</td>\n",
              "      <td>38.000000</td>\n",
              "      <td>38.000000</td>\n",
              "      <td>38.000000</td>\n",
              "    </tr>\n",
              "    <tr>\n",
              "      <th>mean</th>\n",
              "      <td>105.789474</td>\n",
              "      <td>2.342105</td>\n",
              "      <td>1.078947</td>\n",
              "      <td>172.105263</td>\n",
              "      <td>2.394737</td>\n",
              "      <td>13.473684</td>\n",
              "      <td>7.894737</td>\n",
              "      <td>98.888889</td>\n",
              "      <td>23.684211</td>\n",
              "      <td>2.210526</td>\n",
              "      <td>1.023947</td>\n",
              "      <td>0.784474</td>\n",
              "      <td>40.674953</td>\n",
              "    </tr>\n",
              "    <tr>\n",
              "      <th>std</th>\n",
              "      <td>15.357291</td>\n",
              "      <td>1.121686</td>\n",
              "      <td>1.171314</td>\n",
              "      <td>71.957491</td>\n",
              "      <td>3.016078</td>\n",
              "      <td>3.862410</td>\n",
              "      <td>4.092112</td>\n",
              "      <td>81.775923</td>\n",
              "      <td>5.657357</td>\n",
              "      <td>0.810669</td>\n",
              "      <td>0.083586</td>\n",
              "      <td>0.247000</td>\n",
              "      <td>15.324617</td>\n",
              "    </tr>\n",
              "    <tr>\n",
              "      <th>min</th>\n",
              "      <td>50.000000</td>\n",
              "      <td>1.000000</td>\n",
              "      <td>0.000000</td>\n",
              "      <td>0.000000</td>\n",
              "      <td>0.000000</td>\n",
              "      <td>5.000000</td>\n",
              "      <td>0.000000</td>\n",
              "      <td>20.000000</td>\n",
              "      <td>0.000000</td>\n",
              "      <td>1.000000</td>\n",
              "      <td>1.000000</td>\n",
              "      <td>0.250000</td>\n",
              "      <td>18.042851</td>\n",
              "    </tr>\n",
              "    <tr>\n",
              "      <th>25%</th>\n",
              "      <td>100.000000</td>\n",
              "      <td>1.250000</td>\n",
              "      <td>0.000000</td>\n",
              "      <td>136.250000</td>\n",
              "      <td>1.000000</td>\n",
              "      <td>11.125000</td>\n",
              "      <td>5.000000</td>\n",
              "      <td>35.000000</td>\n",
              "      <td>25.000000</td>\n",
              "      <td>2.000000</td>\n",
              "      <td>1.000000</td>\n",
              "      <td>0.670000</td>\n",
              "      <td>31.163156</td>\n",
              "    </tr>\n",
              "    <tr>\n",
              "      <th>50%</th>\n",
              "      <td>110.000000</td>\n",
              "      <td>2.000000</td>\n",
              "      <td>1.000000</td>\n",
              "      <td>180.000000</td>\n",
              "      <td>1.250000</td>\n",
              "      <td>13.000000</td>\n",
              "      <td>8.000000</td>\n",
              "      <td>82.500000</td>\n",
              "      <td>25.000000</td>\n",
              "      <td>2.000000</td>\n",
              "      <td>1.000000</td>\n",
              "      <td>0.750000</td>\n",
              "      <td>38.719385</td>\n",
              "    </tr>\n",
              "    <tr>\n",
              "      <th>75%</th>\n",
              "      <td>110.000000</td>\n",
              "      <td>3.000000</td>\n",
              "      <td>2.000000</td>\n",
              "      <td>217.500000</td>\n",
              "      <td>3.000000</td>\n",
              "      <td>15.000000</td>\n",
              "      <td>11.000000</td>\n",
              "      <td>121.250000</td>\n",
              "      <td>25.000000</td>\n",
              "      <td>3.000000</td>\n",
              "      <td>1.000000</td>\n",
              "      <td>1.000000</td>\n",
              "      <td>48.564101</td>\n",
              "    </tr>\n",
              "    <tr>\n",
              "      <th>max</th>\n",
              "      <td>130.000000</td>\n",
              "      <td>6.000000</td>\n",
              "      <td>5.000000</td>\n",
              "      <td>290.000000</td>\n",
              "      <td>14.000000</td>\n",
              "      <td>22.000000</td>\n",
              "      <td>15.000000</td>\n",
              "      <td>330.000000</td>\n",
              "      <td>25.000000</td>\n",
              "      <td>3.000000</td>\n",
              "      <td>1.330000</td>\n",
              "      <td>1.330000</td>\n",
              "      <td>93.704912</td>\n",
              "    </tr>\n",
              "  </tbody>\n",
              "</table>\n",
              "</div>"
            ],
            "text/plain": [
              "         calories    protein        fat  ...     weight       cups     rating\n",
              "count   38.000000  38.000000  38.000000  ...  38.000000  38.000000  38.000000\n",
              "mean   105.789474   2.342105   1.078947  ...   1.023947   0.784474  40.674953\n",
              "std     15.357291   1.121686   1.171314  ...   0.083586   0.247000  15.324617\n",
              "min     50.000000   1.000000   0.000000  ...   1.000000   0.250000  18.042851\n",
              "25%    100.000000   1.250000   0.000000  ...   1.000000   0.670000  31.163156\n",
              "50%    110.000000   2.000000   1.000000  ...   1.000000   0.750000  38.719385\n",
              "75%    110.000000   3.000000   2.000000  ...   1.000000   1.000000  48.564101\n",
              "max    130.000000   6.000000   5.000000  ...   1.330000   1.330000  93.704912\n",
              "\n",
              "[8 rows x 13 columns]"
            ]
          },
          "metadata": {},
          "execution_count": 53
        }
      ]
    },
    {
      "cell_type": "code",
      "metadata": {
        "colab": {
          "base_uri": "https://localhost:8080/",
          "height": 317
        },
        "id": "7ZAmnRRdvLCN",
        "outputId": "183f27e6-d3e9-4368-ecca-99189d2d2869"
      },
      "source": [
        "df.describe()"
      ],
      "execution_count": null,
      "outputs": [
        {
          "output_type": "execute_result",
          "data": {
            "text/html": [
              "<div>\n",
              "<style scoped>\n",
              "    .dataframe tbody tr th:only-of-type {\n",
              "        vertical-align: middle;\n",
              "    }\n",
              "\n",
              "    .dataframe tbody tr th {\n",
              "        vertical-align: top;\n",
              "    }\n",
              "\n",
              "    .dataframe thead th {\n",
              "        text-align: right;\n",
              "    }\n",
              "</style>\n",
              "<table border=\"1\" class=\"dataframe\">\n",
              "  <thead>\n",
              "    <tr style=\"text-align: right;\">\n",
              "      <th></th>\n",
              "      <th>calories</th>\n",
              "      <th>protein</th>\n",
              "      <th>fat</th>\n",
              "      <th>sodium</th>\n",
              "      <th>fiber</th>\n",
              "      <th>carbo</th>\n",
              "      <th>sugars</th>\n",
              "      <th>potass</th>\n",
              "      <th>vitamins</th>\n",
              "      <th>shelf</th>\n",
              "      <th>weight</th>\n",
              "      <th>cups</th>\n",
              "      <th>rating</th>\n",
              "    </tr>\n",
              "  </thead>\n",
              "  <tbody>\n",
              "    <tr>\n",
              "      <th>count</th>\n",
              "      <td>77.000000</td>\n",
              "      <td>77.000000</td>\n",
              "      <td>77.000000</td>\n",
              "      <td>77.000000</td>\n",
              "      <td>77.000000</td>\n",
              "      <td>76.000000</td>\n",
              "      <td>76.000000</td>\n",
              "      <td>75.000000</td>\n",
              "      <td>77.000000</td>\n",
              "      <td>77.000000</td>\n",
              "      <td>77.000000</td>\n",
              "      <td>77.000000</td>\n",
              "      <td>77.000000</td>\n",
              "    </tr>\n",
              "    <tr>\n",
              "      <th>mean</th>\n",
              "      <td>106.883117</td>\n",
              "      <td>2.545455</td>\n",
              "      <td>1.012987</td>\n",
              "      <td>159.675325</td>\n",
              "      <td>2.151948</td>\n",
              "      <td>14.802632</td>\n",
              "      <td>7.026316</td>\n",
              "      <td>98.666667</td>\n",
              "      <td>28.246753</td>\n",
              "      <td>2.207792</td>\n",
              "      <td>1.029610</td>\n",
              "      <td>0.821039</td>\n",
              "      <td>42.665705</td>\n",
              "    </tr>\n",
              "    <tr>\n",
              "      <th>std</th>\n",
              "      <td>19.484119</td>\n",
              "      <td>1.094790</td>\n",
              "      <td>1.006473</td>\n",
              "      <td>83.832295</td>\n",
              "      <td>2.383364</td>\n",
              "      <td>3.907326</td>\n",
              "      <td>4.378656</td>\n",
              "      <td>70.410636</td>\n",
              "      <td>22.342523</td>\n",
              "      <td>0.832524</td>\n",
              "      <td>0.150477</td>\n",
              "      <td>0.232716</td>\n",
              "      <td>14.047289</td>\n",
              "    </tr>\n",
              "    <tr>\n",
              "      <th>min</th>\n",
              "      <td>50.000000</td>\n",
              "      <td>1.000000</td>\n",
              "      <td>0.000000</td>\n",
              "      <td>0.000000</td>\n",
              "      <td>0.000000</td>\n",
              "      <td>5.000000</td>\n",
              "      <td>0.000000</td>\n",
              "      <td>15.000000</td>\n",
              "      <td>0.000000</td>\n",
              "      <td>1.000000</td>\n",
              "      <td>0.500000</td>\n",
              "      <td>0.250000</td>\n",
              "      <td>18.042851</td>\n",
              "    </tr>\n",
              "    <tr>\n",
              "      <th>25%</th>\n",
              "      <td>100.000000</td>\n",
              "      <td>2.000000</td>\n",
              "      <td>0.000000</td>\n",
              "      <td>130.000000</td>\n",
              "      <td>1.000000</td>\n",
              "      <td>12.000000</td>\n",
              "      <td>3.000000</td>\n",
              "      <td>42.500000</td>\n",
              "      <td>25.000000</td>\n",
              "      <td>1.000000</td>\n",
              "      <td>1.000000</td>\n",
              "      <td>0.670000</td>\n",
              "      <td>33.174094</td>\n",
              "    </tr>\n",
              "    <tr>\n",
              "      <th>50%</th>\n",
              "      <td>110.000000</td>\n",
              "      <td>3.000000</td>\n",
              "      <td>1.000000</td>\n",
              "      <td>180.000000</td>\n",
              "      <td>2.000000</td>\n",
              "      <td>14.500000</td>\n",
              "      <td>7.000000</td>\n",
              "      <td>90.000000</td>\n",
              "      <td>25.000000</td>\n",
              "      <td>2.000000</td>\n",
              "      <td>1.000000</td>\n",
              "      <td>0.750000</td>\n",
              "      <td>40.400208</td>\n",
              "    </tr>\n",
              "    <tr>\n",
              "      <th>75%</th>\n",
              "      <td>110.000000</td>\n",
              "      <td>3.000000</td>\n",
              "      <td>2.000000</td>\n",
              "      <td>210.000000</td>\n",
              "      <td>3.000000</td>\n",
              "      <td>17.000000</td>\n",
              "      <td>11.000000</td>\n",
              "      <td>120.000000</td>\n",
              "      <td>25.000000</td>\n",
              "      <td>3.000000</td>\n",
              "      <td>1.000000</td>\n",
              "      <td>1.000000</td>\n",
              "      <td>50.828392</td>\n",
              "    </tr>\n",
              "    <tr>\n",
              "      <th>max</th>\n",
              "      <td>160.000000</td>\n",
              "      <td>6.000000</td>\n",
              "      <td>5.000000</td>\n",
              "      <td>320.000000</td>\n",
              "      <td>14.000000</td>\n",
              "      <td>23.000000</td>\n",
              "      <td>15.000000</td>\n",
              "      <td>330.000000</td>\n",
              "      <td>100.000000</td>\n",
              "      <td>3.000000</td>\n",
              "      <td>1.500000</td>\n",
              "      <td>1.500000</td>\n",
              "      <td>93.704912</td>\n",
              "    </tr>\n",
              "  </tbody>\n",
              "</table>\n",
              "</div>"
            ],
            "text/plain": [
              "         calories    protein        fat  ...     weight       cups     rating\n",
              "count   77.000000  77.000000  77.000000  ...  77.000000  77.000000  77.000000\n",
              "mean   106.883117   2.545455   1.012987  ...   1.029610   0.821039  42.665705\n",
              "std     19.484119   1.094790   1.006473  ...   0.150477   0.232716  14.047289\n",
              "min     50.000000   1.000000   0.000000  ...   0.500000   0.250000  18.042851\n",
              "25%    100.000000   2.000000   0.000000  ...   1.000000   0.670000  33.174094\n",
              "50%    110.000000   3.000000   1.000000  ...   1.000000   0.750000  40.400208\n",
              "75%    110.000000   3.000000   2.000000  ...   1.000000   1.000000  50.828392\n",
              "max    160.000000   6.000000   5.000000  ...   1.500000   1.500000  93.704912\n",
              "\n",
              "[8 rows x 13 columns]"
            ]
          },
          "metadata": {},
          "execution_count": 54
        }
      ]
    },
    {
      "cell_type": "code",
      "metadata": {
        "colab": {
          "base_uri": "https://localhost:8080/"
        },
        "id": "9jZK6hDqvT5Y",
        "outputId": "bcfe2e76-7591-4e82-b5b6-9e1d51497db4"
      },
      "source": [
        "print(df.sort_values('protein', axis=0))"
      ],
      "execution_count": null,
      "outputs": [
        {
          "output_type": "stream",
          "name": "stdout",
          "text": [
            "                name mfr type  calories  ...  shelf  weight  cups     rating\n",
            "54       Puffed_Rice   Q    C        50  ...      3     0.5  1.00  60.756112\n",
            "31    Golden_Grahams   G    C       110  ...      2     1.0  0.75  23.804043\n",
            "35  Honey_Graham_Ohs   Q    C       120  ...      2     1.0  1.00  21.871292\n",
            "37        Honey-comb   P    C       110  ...      1     1.0  1.33  28.742414\n",
            "18     Count_Chocula   G    C       110  ...      2     1.0  1.00  22.396513\n",
            "..               ...  ..  ...       ...  ...    ...     ...   ...        ...\n",
            "2           All-Bran   K    C        70  ...      3     1.0  0.33  59.425505\n",
            "0          100%_Bran   N    C        70  ...      3     1.0  0.33  68.402973\n",
            "57    Quaker_Oatmeal   Q    H       100  ...      1     1.0  0.67  50.828392\n",
            "67         Special_K   K    C       110  ...      1     1.0  1.00  53.131324\n",
            "11          Cheerios   G    C       110  ...      1     1.0  1.25  50.764999\n",
            "\n",
            "[77 rows x 16 columns]\n"
          ]
        }
      ]
    },
    {
      "cell_type": "code",
      "metadata": {
        "id": "Wm77u-2RvvDx"
      },
      "source": [],
      "execution_count": null,
      "outputs": []
    },
    {
      "cell_type": "markdown",
      "metadata": {
        "id": "Kdnltg4Sv7kx"
      },
      "source": [
        "# QUESTION 9\n"
      ]
    },
    {
      "cell_type": "code",
      "metadata": {
        "id": "GqShfmQYv9bj"
      },
      "source": [
        "import numpy as np "
      ],
      "execution_count": null,
      "outputs": []
    },
    {
      "cell_type": "code",
      "metadata": {
        "id": "X5-0YtIbwC7L"
      },
      "source": [
        "import math"
      ],
      "execution_count": null,
      "outputs": []
    },
    {
      "cell_type": "code",
      "metadata": {
        "id": "MK1wK_9jygle"
      },
      "source": [
        "import matplotlib.pyplot as plt"
      ],
      "execution_count": null,
      "outputs": []
    },
    {
      "cell_type": "code",
      "metadata": {
        "id": "T9whWO6PwDwb"
      },
      "source": [
        "in_array = [0, math.pi/2, np.pi/3,np.pi]"
      ],
      "execution_count": null,
      "outputs": []
    },
    {
      "cell_type": "code",
      "metadata": {
        "colab": {
          "base_uri": "https://localhost:8080/"
        },
        "id": "BHaA8abTwKI_",
        "outputId": "01c9c511-b981-4b0c-8003-698fa5ed300d"
      },
      "source": [
        "print(\"Input array: \\n\", in_array)"
      ],
      "execution_count": null,
      "outputs": [
        {
          "output_type": "stream",
          "name": "stdout",
          "text": [
            "Input array: \n",
            " [0, 1.5707963267948966, 1.0471975511965976, 3.141592653589793]\n"
          ]
        }
      ]
    },
    {
      "cell_type": "code",
      "metadata": {
        "id": "dqLZxe73wOGy"
      },
      "source": [
        "Sin_Values = np.sin(in_array)"
      ],
      "execution_count": null,
      "outputs": []
    },
    {
      "cell_type": "code",
      "metadata": {
        "colab": {
          "base_uri": "https://localhost:8080/"
        },
        "id": "ibOMZ6m9wQmU",
        "outputId": "80669225-ccb4-445a-8571-d693a324fb48"
      },
      "source": [
        "print(\"\\nSine values: \\n\", Sin_Values)"
      ],
      "execution_count": null,
      "outputs": [
        {
          "output_type": "stream",
          "name": "stdout",
          "text": [
            "\n",
            "Sine values: \n",
            " [0.00000000e+00 1.00000000e+00 8.66025404e-01 1.22464680e-16]\n"
          ]
        }
      ]
    },
    {
      "cell_type": "code",
      "metadata": {
        "colab": {
          "base_uri": "https://localhost:8080/"
        },
        "id": "QG20rEMWwU44",
        "outputId": "9f8aae16-561f-47e0-8b79-d3184520b0a2"
      },
      "source": [
        "Cos_values = np.cos(in_array)\n",
        "print(\"\\nCos values: \\n\", Cos_values)"
      ],
      "execution_count": null,
      "outputs": [
        {
          "output_type": "stream",
          "name": "stdout",
          "text": [
            "\n",
            "Cos values: \n",
            " [ 1.000000e+00  6.123234e-17  5.000000e-01 -1.000000e+00]\n"
          ]
        }
      ]
    },
    {
      "cell_type": "code",
      "metadata": {
        "colab": {
          "base_uri": "https://localhost:8080/"
        },
        "id": "BGf3-tc5xTum",
        "outputId": "29a3d521-c045-4aca-8202-a1ef6508e1cd"
      },
      "source": [
        "in_array = np.linspace(-np.pi, np.pi, 12)\n",
        "out_array = np.cos(in_array)\n",
        "sout_array = np.sin(in_array)\n",
        "print(\"in_array:\", in_array)\n",
        "print(\"\\nout_array: \", out_array)"
      ],
      "execution_count": null,
      "outputs": [
        {
          "output_type": "stream",
          "name": "stdout",
          "text": [
            "in_array: [-3.14159265 -2.57039399 -1.99919533 -1.42799666 -0.856798   -0.28559933\n",
            "  0.28559933  0.856798    1.42799666  1.99919533  2.57039399  3.14159265]\n",
            "\n",
            "out_array:  [-1.         -0.84125353 -0.41541501  0.14231484  0.65486073  0.95949297\n",
            "  0.95949297  0.65486073  0.14231484 -0.41541501 -0.84125353 -1.        ]\n"
          ]
        }
      ]
    },
    {
      "cell_type": "code",
      "metadata": {
        "colab": {
          "base_uri": "https://localhost:8080/",
          "height": 295
        },
        "id": "UUl4ofEsxqwD",
        "outputId": "751d42b4-d118-4fca-d17e-02a99ad04600"
      },
      "source": [
        "plt.plot(in_array, out_array,\n",
        "         color = 'blue', marker = 'o', label = 'cos')\n",
        "plt.plot(in_array, sout_array, label = \"sin\", color = 'red')\n",
        "plt.title(\"Sine and Cos\")\n",
        "plt.xlabel(\"X\")\n",
        "plt.ylabel(\"Y\")\n",
        "plt.show()"
      ],
      "execution_count": null,
      "outputs": [
        {
          "output_type": "display_data",
          "data": {
            "image/png": "[encoded data removed]",
            "text/plain": [
              "<Figure size 432x288 with 1 Axes>"
            ]
          },
          "metadata": {
            "needs_background": "light"
          }
        }
      ]
    },
    {
      "cell_type": "code",
      "metadata": {
        "id": "Ap7m6B4iyd6i"
      },
      "source": [],
      "execution_count": null,
      "outputs": []
    },
    {
      "cell_type": "markdown",
      "metadata": {
        "id": "lm9VM6wd0Now"
      },
      "source": [
        "# QUESTION 10"
      ]
    },
    {
      "cell_type": "code",
      "metadata": {
        "id": "XqHy9Jiw0ntc"
      },
      "source": [
        "import seaborn as sns"
      ],
      "execution_count": null,
      "outputs": []
    },
    {
      "cell_type": "code",
      "metadata": {
        "colab": {
          "base_uri": "https://localhost:8080/",
          "height": 373
        },
        "id": "l0Q6aSEM0Qrc",
        "outputId": "b078bee1-d802-4b0d-a97e-8e39e16d87ff"
      },
      "source": [
        "fig, axes = plt.subplots(2 , 7, figsize=(60, 20))\n",
        "  \n",
        "fig.suptitle('Plots - 7 x 2 axes hist plot with data')\n",
        "\n",
        "a= sns.histplot(ax=axes[0,0], data=df, x=\"calories\")\n",
        "b= sns.histplot(ax=axes[0,1],data=df, x=\"protein\")\n",
        "c= sns.histplot(ax=axes[0,2], data=df, x=\"fat\")\n",
        "d= sns.histplot(ax=axes[0,3],data=df, x=\"sodium\")\n",
        "e= sns.histplot(ax=axes[0,4],data=df, x=\"fiber\")\n",
        "f= sns.histplot(ax=axes[0,5],data=df, x=\"carbo\")\n",
        "g= sns.histplot(ax=axes[0,6],data=df, x=\"sugars\")\n",
        "h=sns.histplot(ax=axes[1,0],data=df, x=\"potass\")\n",
        "i= sns.histplot(ax=axes[1,1],data=df, x=\"vitamins\")\n",
        "j= sns.histplot(ax=axes[1,2],data=df, x=\"shelf\")\n",
        "k= sns.histplot(ax=axes[1,3],data=df, x=\"weight\")\n",
        "l= sns.histplot(ax=axes[1,4],data=df, x=\"cups\")\n",
        "m= sns.histplot(ax=axes[1,5],data=df, x=\"rating\")\n",
        "\n"
      ],
      "execution_count": null,
      "outputs": [
        {
          "output_type": "display_data",
          "data": {
            "image/png": "[encoded data removed]",
            "text/plain": [
              "<Figure size 4320x1440 with 14 Axes>"
            ]
          },
          "metadata": {
            "needs_background": "light"
          }
        }
      ]
    },
    {
      "cell_type": "code",
      "metadata": {
        "id": "u7Ir-x3n0loW"
      },
      "source": [],
      "execution_count": null,
      "outputs": []
    }
  ]
}