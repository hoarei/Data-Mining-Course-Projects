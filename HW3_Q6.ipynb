{
  "nbformat": 4,
  "nbformat_minor": 0,
  "metadata": {
    "colab": {
      "provenance": []
    },
    "kernelspec": {
      "name": "python3",
      "display_name": "Python 3"
    },
    "language_info": {
      "name": "python"
    }
  },
  "cells": [
    {
      "cell_type": "markdown",
      "metadata": {
        "id": "yOoDpt7lXyN9"
      },
      "source": [
        "Logistic Regression"
      ]
    },
    {
      "cell_type": "code",
      "metadata": {
        "id": "zMoPy8oNW0PN"
      },
      "source": [
        "import pandas as pd\n",
        "import numpy as np\n",
        "import os\n",
        "import matplotlib.pyplot as plt\n",
        "from sklearn import linear_model"
      ],
      "execution_count": null,
      "outputs": []
    },
    {
      "cell_type": "code",
      "metadata": {
        "colab": {
          "base_uri": "https://localhost:8080/"
        },
        "id": "xIznT4bKXP1-",
        "outputId": "73c211e6-00ce-4594-b775-5f281520996a"
      },
      "source": [
        "from google.colab import drive\n",
        "drive.mount('/content/gdrive')\n",
        "\n",
        "os.chdir('/content/gdrive/My Drive/MA440')\n",
        "!pwd"
      ],
      "execution_count": null,
      "outputs": [
        {
          "output_type": "stream",
          "name": "stdout",
          "text": [
            "Mounted at /content/gdrive\n",
            "/content/gdrive/My Drive/MA440\n"
          ]
        }
      ]
    },
    {
      "cell_type": "code",
      "metadata": {
        "id": "VceU-CfSXLzJ"
      },
      "source": [
        "train = pd.read_csv('/content/gdrive/My Drive/MA440/sonar_train.csv')\n",
        "test = pd.read_csv('/content/gdrive/My Drive/MA440/sonar_test.csv')"
      ],
      "execution_count": null,
      "outputs": []
    },
    {
      "cell_type": "code",
      "metadata": {
        "id": "YFLtGRPgYXUU"
      },
      "source": [
        "xtrain = train.iloc[:,0:60]\n",
        "ytrain = train.iloc[:,60]\n",
        "\n",
        "xtest = test.iloc[:,0:60]\n",
        "ytest = test.iloc[:,60]"
      ],
      "execution_count": null,
      "outputs": []
    },
    {
      "cell_type": "code",
      "metadata": {
        "colab": {
          "base_uri": "https://localhost:8080/"
        },
        "id": "l5trSwnsYxLm",
        "outputId": "efb22925-46a6-4de6-e008-9b458f6938cb"
      },
      "source": [
        "log_reg = linear_model.LogisticRegression()\n",
        "log_reg.fit(xtrain, ytrain)"
      ],
      "execution_count": null,
      "outputs": [
        {
          "output_type": "execute_result",
          "data": {
            "text/plain": [
              "LogisticRegression(C=1.0, class_weight=None, dual=False, fit_intercept=True,\n",
              "                   intercept_scaling=1, l1_ratio=None, max_iter=100,\n",
              "                   multi_class='auto', n_jobs=None, penalty='l2',\n",
              "                   random_state=None, solver='lbfgs', tol=0.0001, verbose=0,\n",
              "                   warm_start=False)"
            ]
          },
          "metadata": {},
          "execution_count": 9
        }
      ]
    },
    {
      "cell_type": "code",
      "metadata": {
        "colab": {
          "base_uri": "https://localhost:8080/"
        },
        "id": "_kjyTSlIY9ms",
        "outputId": "a45562c6-6df2-4a84-9ad0-c6deed8552f0"
      },
      "source": [
        "print(log_reg.intercept_)\n",
        "print(log_reg.coef_)"
      ],
      "execution_count": null,
      "outputs": [
        {
          "output_type": "stream",
          "name": "stdout",
          "text": [
            "[2.3964746]\n",
            "[[-0.15170403 -0.16013462 -0.12848921 -0.22371585 -0.09528248  0.21682558\n",
            "   0.07876781  0.08448239 -0.53698784 -0.83980811 -1.0566752  -1.00291646\n",
            "  -0.55137199  0.09313552  0.07830213  0.2905289   0.38290023  0.49465539\n",
            "  -0.18790641 -0.46012991 -0.73491823 -0.74257368 -0.72575384 -0.26605657\n",
            "   0.28049429  0.1180818   0.11190708 -0.36872545 -0.20704984 -0.0807308\n",
            "   1.01090624 -0.21878213 -0.04733517  0.44654994  0.66343664  1.20318158\n",
            "   0.42910989 -0.78799364 -0.50975843  0.59270569  0.01125272 -0.84149454\n",
            "  -0.65865132 -0.78728166 -1.34103351 -1.24228873 -0.83443359 -0.64784198\n",
            "  -0.40707462 -0.06034785 -0.12017045 -0.10819465 -0.01888103 -0.07383091\n",
            "  -0.01403241 -0.01626494  0.02254274 -0.01737549 -0.01467545  0.00165272]]\n"
          ]
        }
      ]
    },
    {
      "cell_type": "code",
      "metadata": {
        "id": "Xy5Wnoo8Zb29"
      },
      "source": [
        "pred_prob = pd.DataFrame(log_reg.predict_proba(xtest))\n",
        "\n",
        "pred = log_reg.predict(xtest)\n",
        "pred_class = pd.DataFrame(pred)\n",
        "pred_class.columns = [\"Prediction\"]\n",
        "\n",
        "test_lab = ytest"
      ],
      "execution_count": null,
      "outputs": []
    },
    {
      "cell_type": "code",
      "metadata": {
        "id": "qbrug3HiaM3-"
      },
      "source": [
        "oresult = pd.DataFrame(test_lab)\n",
        "oresult.columns = [\"Original Result\"]"
      ],
      "execution_count": null,
      "outputs": []
    },
    {
      "cell_type": "code",
      "metadata": {
        "colab": {
          "base_uri": "https://localhost:8080/"
        },
        "id": "Mhvg7YIDabcu",
        "outputId": "ab46b222-8451-4878-ce6e-e4dcb0e53b84"
      },
      "source": [
        "result = pd.concat([pred_prob, pred_class, oresult], axis = 1) \n",
        "print(result.head())"
      ],
      "execution_count": null,
      "outputs": [
        {
          "output_type": "stream",
          "name": "stdout",
          "text": [
            "          0         1  Prediction  Original Result\n",
            "0  0.490834  0.509166           1               -1\n",
            "1  0.264102  0.735898           1               -1\n",
            "2  0.290626  0.709374           1                1\n",
            "3  0.159963  0.840037           1                1\n",
            "4  0.475468  0.524532           1                1\n"
          ]
        }
      ]
    },
    {
      "cell_type": "markdown",
      "metadata": {
        "id": "fmwb8ormbAA0"
      },
      "source": [
        "SVM "
      ]
    },
    {
      "cell_type": "code",
      "metadata": {
        "id": "nntBTYgBbDOx"
      },
      "source": [
        "from sklearn import svm\n",
        "from sklearn.svm import SVC"
      ],
      "execution_count": null,
      "outputs": []
    },
    {
      "cell_type": "code",
      "metadata": {
        "colab": {
          "base_uri": "https://localhost:8080/"
        },
        "id": "UTBq22F9bn6o",
        "outputId": "487424f9-4ca8-41f2-d00b-f2a60881fc76"
      },
      "source": [
        "c = 1\n",
        "clf = svm.SVC(kernel = 'linear', C = c)\n",
        "clf.fit (xtrain, ytrain)"
      ],
      "execution_count": null,
      "outputs": [
        {
          "output_type": "execute_result",
          "data": {
            "text/plain": [
              "SVC(C=1, break_ties=False, cache_size=200, class_weight=None, coef0=0.0,\n",
              "    decision_function_shape='ovr', degree=3, gamma='scale', kernel='linear',\n",
              "    max_iter=-1, probability=False, random_state=None, shrinking=True,\n",
              "    tol=0.001, verbose=False)"
            ]
          },
          "metadata": {},
          "execution_count": 23
        }
      ]
    },
    {
      "cell_type": "code",
      "metadata": {
        "colab": {
          "base_uri": "https://localhost:8080/"
        },
        "id": "zrSUM9BqbzZp",
        "outputId": "c29c88e6-f66e-44fc-a793-36f7e219588f"
      },
      "source": [
        "print(clf.score(xtest, ytest))"
      ],
      "execution_count": null,
      "outputs": [
        {
          "output_type": "stream",
          "name": "stdout",
          "text": [
            "0.7662337662337663\n"
          ]
        }
      ]
    },
    {
      "cell_type": "markdown",
      "metadata": {
        "id": "-SeLHtmMb5_N"
      },
      "source": [
        "KNN"
      ]
    },
    {
      "cell_type": "code",
      "metadata": {
        "id": "r6PGWeUJcEKT"
      },
      "source": [
        "from sklearn import neighbors\n",
        "from sklearn.neighbors import KNeighborsClassifier"
      ],
      "execution_count": null,
      "outputs": []
    },
    {
      "cell_type": "code",
      "metadata": {
        "id": "CNtV7wjzcS-q"
      },
      "source": [
        "model = KNeighborsClassifier(n_neighbors = 3)"
      ],
      "execution_count": null,
      "outputs": []
    },
    {
      "cell_type": "code",
      "metadata": {
        "id": "2B0lxolRcf3R"
      },
      "source": [
        "model = KNeighborsClassifier()\n",
        "model = model.fit(xtest, ytest)\n",
        "\n",
        "pred = model.predict(xtrain)"
      ],
      "execution_count": null,
      "outputs": []
    },
    {
      "cell_type": "code",
      "metadata": {
        "colab": {
          "base_uri": "https://localhost:8080/"
        },
        "id": "4u7fbe27cs3S",
        "outputId": "57f9688c-5618-4d21-da4b-2068391ce1f8"
      },
      "source": [
        "print(model.score(xtest, ytest))"
      ],
      "execution_count": null,
      "outputs": [
        {
          "output_type": "stream",
          "name": "stdout",
          "text": [
            "0.7922077922077922\n"
          ]
        }
      ]
    },
    {
      "cell_type": "markdown",
      "metadata": {
        "id": "s5BKxn81c4Mn"
      },
      "source": [
        "Decision Tree "
      ]
    },
    {
      "cell_type": "code",
      "metadata": {
        "id": "AwPIRU6Gc6Dk"
      },
      "source": [
        "from sklearn import tree\n",
        "from sklearn.tree import DecisionTreeClassifier"
      ],
      "execution_count": null,
      "outputs": []
    },
    {
      "cell_type": "code",
      "metadata": {
        "colab": {
          "base_uri": "https://localhost:8080/",
          "height": 537
        },
        "id": "rlXfIb_AdOgo",
        "outputId": "293fa2db-099e-46b0-c3d9-ccdccd67618b"
      },
      "source": [
        "dec_tree = tree.DecisionTreeClassifier()\n",
        "dec_tree = dec_tree.fit(xtest, ytest)\n",
        "\n",
        "pred_tree = dec_tree.predict(xtrain)\n",
        "\n",
        "tree.plot_tree(dec_tree)"
      ],
      "execution_count": null,
      "outputs": [
        {
          "output_type": "execute_result",
          "data": {
            "text/plain": [
              "[Text(156.24, 195.696, 'X[10] <= 0.198\\ngini = 0.49\\nsamples = 77\\nvalue = [44, 33]'),\n",
              " Text(89.28, 152.208, 'X[30] <= 0.412\\ngini = 0.358\\nsamples = 30\\nvalue = [7, 23]'),\n",
              " Text(44.64, 108.72, 'X[46] <= 0.094\\ngini = 0.48\\nsamples = 10\\nvalue = [6, 4]'),\n",
              " Text(22.32, 65.232, 'gini = 0.0\\nsamples = 4\\nvalue = [0, 4]'),\n",
              " Text(66.96000000000001, 65.232, 'gini = 0.0\\nsamples = 6\\nvalue = [6, 0]'),\n",
              " Text(133.92000000000002, 108.72, 'X[43] <= 0.032\\ngini = 0.095\\nsamples = 20\\nvalue = [1, 19]'),\n",
              " Text(111.6, 65.232, 'gini = 0.0\\nsamples = 1\\nvalue = [1, 0]'),\n",
              " Text(156.24, 65.232, 'gini = 0.0\\nsamples = 19\\nvalue = [0, 19]'),\n",
              " Text(223.2, 152.208, 'X[38] <= 0.102\\ngini = 0.335\\nsamples = 47\\nvalue = [37, 10]'),\n",
              " Text(200.88, 108.72, 'gini = 0.0\\nsamples = 5\\nvalue = [0, 5]'),\n",
              " Text(245.52, 108.72, 'X[28] <= 0.356\\ngini = 0.21\\nsamples = 42\\nvalue = [37, 5]'),\n",
              " Text(200.88, 65.232, 'X[47] <= 0.052\\ngini = 0.444\\nsamples = 6\\nvalue = [2, 4]'),\n",
              " Text(178.56, 21.744, 'gini = 0.0\\nsamples = 4\\nvalue = [0, 4]'),\n",
              " Text(223.2, 21.744, 'gini = 0.0\\nsamples = 2\\nvalue = [2, 0]'),\n",
              " Text(290.16, 65.232, 'X[47] <= 0.197\\ngini = 0.054\\nsamples = 36\\nvalue = [35, 1]'),\n",
              " Text(267.84000000000003, 21.744, 'gini = 0.0\\nsamples = 35\\nvalue = [35, 0]'),\n",
              " Text(312.48, 21.744, 'gini = 0.0\\nsamples = 1\\nvalue = [0, 1]')]"
            ]
          },
          "metadata": {},
          "execution_count": 42
        },
        {
          "output_type": "display_data",
          "data": {
            "image/png": "[encoded data removed]",
            "text/plain": [
              "<Figure size 432x288 with 1 Axes>"
            ]
          },
          "metadata": {
            "needs_background": "light"
          }
        }
      ]
    }
  ]
}